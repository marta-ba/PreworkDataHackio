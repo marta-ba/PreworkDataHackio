{
 "cells": [
  {
   "cell_type": "markdown",
   "metadata": {},
   "source": [
    "<div style=\"text-align: center;\">\n",
    "  <img src=\"https://github.com/Hack-io-Data/Imagenes/blob/main/01-LogosHackio/logo_celeste@4x.png?raw=true\" alt=\"logo hack(io)\" />\n",
    "</div>"
   ]
  },
  {
   "cell_type": "markdown",
   "metadata": {},
   "source": [
    "#### 1. Escribe un programa que determine si un número es par o impar.\n",
    "\n"
   ]
  },
  {
   "cell_type": "code",
   "execution_count": 3,
   "metadata": {},
   "outputs": [
    {
     "name": "stdout",
     "output_type": "stream",
     "text": [
      "El numero es impar\n"
     ]
    }
   ],
   "source": [
    "numero = 5465\n",
    "if numero % 2 == 0:\n",
    "    print(\"El numero es par\")\n",
    "else: print(\"El numero es impar\")"
   ]
  },
  {
   "cell_type": "markdown",
   "metadata": {},
   "source": [
    "#### 2. Genera un programa que nos diga si es de noche, de día o tarde según la hora proporcionada por el usuario."
   ]
  },
  {
   "cell_type": "code",
   "execution_count": 8,
   "metadata": {},
   "outputs": [
    {
     "name": "stdout",
     "output_type": "stream",
     "text": [
      "Estamos en la tarde\n"
     ]
    }
   ],
   "source": [
    "hora = 13\n",
    "if 6 <= hora < 12:\n",
    "    print(\"Es la mañana\")\n",
    "elif 12 <= hora < 18:\n",
    "    print(\"Estamos en la tarde\")\n",
    "elif 18 <= hora <= 23 or 0 <= hora < 6:\n",
    "    print(\"Es de noche\")"
   ]
  },
  {
   "cell_type": "markdown",
   "metadata": {},
   "source": [
    "#### 3. Dado un nombre imprime un saludo personalizado."
   ]
  },
  {
   "cell_type": "code",
   "execution_count": 15,
   "metadata": {},
   "outputs": [
    {
     "name": "stdout",
     "output_type": "stream",
     "text": [
      "HOLA QUE TAL\n"
     ]
    }
   ],
   "source": [
    "nombre = (\"Marta\")\n",
    "if nombre == \"Marta\":\n",
    "   print(\"HOLA QUE TAL\")\n",
    "if nombre == \"Rodolfo\":\n",
    "   print(\"hola que hay\")"
   ]
  },
  {
   "cell_type": "markdown",
   "metadata": {},
   "source": [
    "#### 4. Escribe un programa que determine qué calificación en texto tiene un alumno en base a su calificación numérica. Las reglas de calificación son: \n",
    "\n",
    "- 0 - 69 insuficiente\n",
    "\n",
    "- 70 - 79 bien\n",
    "\n",
    "- 80 - 89 muy bien\n",
    "\n",
    "- 90 - 100 excelente\n"
   ]
  },
  {
   "cell_type": "code",
   "execution_count": 21,
   "metadata": {},
   "outputs": [
    {
     "name": "stdout",
     "output_type": "stream",
     "text": [
      "bien\n"
     ]
    }
   ],
   "source": [
    "calificacion = 34\n",
    "if 0 >= calificacion <= 69:\n",
    "    print(\"insuficiente\")\n",
    "elif 70 >= calificacion <= 79:\n",
    "    print(\"bien\")\n",
    "elif 80 >= calificacion <= 89:\n",
    "    print(\"muy bien\")\n",
    "elif 90 >= calificacion <= 100:\n",
    "    print(\"excelente\")"
   ]
  },
  {
   "cell_type": "markdown",
   "metadata": {},
   "source": [
    "#### 5. Escribe un programa que imprima el día de la semana, dado un número del 1 al 7.\n"
   ]
  },
  {
   "cell_type": "code",
   "execution_count": 22,
   "metadata": {},
   "outputs": [
    {
     "name": "stdout",
     "output_type": "stream",
     "text": [
      "Miercoles\n"
     ]
    }
   ],
   "source": [
    "dia = 3\n",
    "if dia == 1:\n",
    "    print(\"Lunes\")\n",
    "elif dia == 2:\n",
    "    print(\"Martes\")\n",
    "elif dia == 3:\n",
    "    print(\"Miercoles\")\n",
    "elif dia == 4:\n",
    "    print(\"Jueves\")\n",
    "elif dia == 5:\n",
    "    print(\"Viernes\")\n",
    "elif dia == 6:\n",
    "    print(\"Sabado\")\n",
    "elif dia == 7:\n",
    "    print(\"domingo\")"
   ]
  },
  {
   "cell_type": "markdown",
   "metadata": {},
   "source": [
    "#### 6. Escribe un programa que determine si un número es positivo, negativo o cero."
   ]
  },
  {
   "cell_type": "code",
   "execution_count": 23,
   "metadata": {},
   "outputs": [
    {
     "name": "stdout",
     "output_type": "stream",
     "text": [
      "El número es positivo.\n"
     ]
    }
   ],
   "source": [
    "numero = 3\n",
    "if numero > 0:\n",
    "    print(\"El número es positivo.\")\n",
    "elif numero < 0:\n",
    "    print(\"El número es negativo.\")\n",
    "else:\n",
    "    print(\"El número es cero.\")"
   ]
  },
  {
   "cell_type": "markdown",
   "metadata": {},
   "source": [
    "#### 7. Escribe un programa que determine si una persona puede conducir o no. La edad mínima para conducir es 18 años. \n"
   ]
  },
  {
   "cell_type": "code",
   "execution_count": 24,
   "metadata": {},
   "outputs": [
    {
     "name": "stdout",
     "output_type": "stream",
     "text": [
      "Puede conducir\n"
     ]
    }
   ],
   "source": [
    "edad_conducir = 25\n",
    "if edad_conducir > 18:\n",
    "    print(\"Puede conducir\")\n",
    "else:\n",
    "    print(\"No peude conducir\")"
   ]
  },
  {
   "cell_type": "markdown",
   "metadata": {},
   "source": [
    "#### 8. Escribe un programa que determine si un estudiante aprobó o suspendió un examen."
   ]
  },
  {
   "cell_type": "code",
   "execution_count": 25,
   "metadata": {},
   "outputs": [
    {
     "name": "stdout",
     "output_type": "stream",
     "text": [
      "El estudiante no aprobó el examen.\n"
     ]
    }
   ],
   "source": [
    "calificacion = 5.3\n",
    "if calificacion >= 60:\n",
    "    print(\"El estudiante aprobó el examen.\")\n",
    "else:\n",
    "    print(\"El estudiante no aprobó el examen.\")"
   ]
  },
  {
   "cell_type": "markdown",
   "metadata": {},
   "source": [
    "#### 9. Escribe un programa que determine si un número es múltiplo de 3 y 5.\n"
   ]
  },
  {
   "cell_type": "code",
   "execution_count": 26,
   "metadata": {},
   "outputs": [
    {
     "name": "stdout",
     "output_type": "stream",
     "text": [
      "El número no es múltiplo de 3 y de 5.\n"
     ]
    }
   ],
   "source": [
    "numero = 340\n",
    "if numero % 3 == 0 and numero % 5 == 0:\n",
    "    print(\"El número es múltiplo de 3 y de 5.\")\n",
    "else:\n",
    "    print(\"El número no es múltiplo de 3 y de 5.\")"
   ]
  },
  {
   "cell_type": "markdown",
   "metadata": {},
   "source": [
    "#### 10. Escribe un programa que determine si un número es par o impar.\n"
   ]
  },
  {
   "cell_type": "code",
   "execution_count": 27,
   "metadata": {},
   "outputs": [
    {
     "name": "stdout",
     "output_type": "stream",
     "text": [
      "El número es impar.\n"
     ]
    }
   ],
   "source": [
    "numero = 288889\n",
    "if numero % 2 == 0:\n",
    "    print(\"El número es par.\")\n",
    "else:\n",
    "    print(\"El número es impar.\")"
   ]
  }
 ],
 "metadata": {
  "kernelspec": {
   "display_name": "hackio",
   "language": "python",
   "name": "python3"
  },
  "language_info": {
   "codemirror_mode": {
    "name": "ipython",
    "version": 3
   },
   "file_extension": ".py",
   "mimetype": "text/x-python",
   "name": "python",
   "nbconvert_exporter": "python",
   "pygments_lexer": "ipython3",
   "version": "3.12.4"
  }
 },
 "nbformat": 4,
 "nbformat_minor": 2
}
