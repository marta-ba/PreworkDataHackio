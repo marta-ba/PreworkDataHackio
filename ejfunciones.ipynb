{
 "cells": [
  {
   "cell_type": "markdown",
   "metadata": {},
   "source": [
    "\n",
    "<div style=\"text-align: center;\">\n",
    "  <img src=\"https://github.com/Hack-io-Data/Imagenes/blob/main/01-LogosHackio/logo_celeste@4x.png?raw=true\" alt=\"esquema\" />\n",
    "</div>"
   ]
  },
  {
   "cell_type": "markdown",
   "metadata": {},
   "source": [
    "#### 1. Escribe una función sin parámetros que imprima el siguiente mensaje \"¡Hola! Bienvenido.\"\n"
   ]
  },
  {
   "cell_type": "code",
   "execution_count": 1,
   "metadata": {},
   "outputs": [
    {
     "name": "stdout",
     "output_type": "stream",
     "text": [
      "¡Hola! Bienvenidos!\n"
     ]
    }
   ],
   "source": [
    "def saludar():\n",
    "    print(\"¡Hola! Bienvenidos!\")\n",
    "\n",
    "# Llamada a la función\n",
    "saludar()\n"
   ]
  },
  {
   "cell_type": "markdown",
   "metadata": {},
   "source": [
    "#### 2. Escribe una función que reciba dos parámetros y devuelva la suma de ambos.\n"
   ]
  },
  {
   "cell_type": "code",
   "execution_count": 7,
   "metadata": {},
   "outputs": [
    {
     "name": "stdout",
     "output_type": "stream",
     "text": [
      "5\n"
     ]
    }
   ],
   "source": [
    "def suma (a, b):\n",
    "    return a + b\n",
    "resultado = suma(2, 3)\n",
    "print(resultado)"
   ]
  },
  {
   "cell_type": "markdown",
   "metadata": {},
   "source": [
    "#### 3. Escribe una función que reciba un número y devuelva True si es par, False si no lo es."
   ]
  },
  {
   "cell_type": "code",
   "execution_count": 10,
   "metadata": {},
   "outputs": [
    {
     "data": {
      "text/plain": [
       "True"
      ]
     },
     "execution_count": 10,
     "metadata": {},
     "output_type": "execute_result"
    }
   ],
   "source": [
    "def es_par(numero):\n",
    "    return numero % 2 == 0\n",
    "es_par(42)"
   ]
  },
  {
   "cell_type": "markdown",
   "metadata": {},
   "source": [
    "#### 4. Escribe un función que devuelva un saludo personalizado a una persona dado su nombre. \n"
   ]
  },
  {
   "cell_type": "code",
   "execution_count": 14,
   "metadata": {},
   "outputs": [
    {
     "data": {
      "text/plain": [
       "'Hola que hay'"
      ]
     },
     "execution_count": 14,
     "metadata": {},
     "output_type": "execute_result"
    }
   ],
   "source": [
    "def saludo(nombre):\n",
    "    return f\"Hola que hay\"\n",
    "saludo(\"marta\")\n"
   ]
  },
  {
   "cell_type": "markdown",
   "metadata": {},
   "source": [
    "#### 5. Escribe una función que sume todos los números que reciba como argumento. La función debe recibir una cantidad variable de argumentos y devolver la suma de todos ellos."
   ]
  },
  {
   "cell_type": "code",
   "execution_count": 15,
   "metadata": {},
   "outputs": [
    {
     "data": {
      "text/plain": [
       "19"
      ]
     },
     "execution_count": 15,
     "metadata": {},
     "output_type": "execute_result"
    }
   ],
   "source": [
    "def sumar_todos(*args):\n",
    "    return sum(args)\n",
    "sumar_todos(12, 3, 4)"
   ]
  },
  {
   "cell_type": "markdown",
   "metadata": {},
   "source": [
    "#### 6. Escribe una función que cuente las letras de una palabra y devuelva un diccionario con la cantidad de veces que se repite cada letra \n"
   ]
  },
  {
   "cell_type": "code",
   "execution_count": 25,
   "metadata": {},
   "outputs": [
    {
     "ename": "IndentationError",
     "evalue": "unindent does not match any outer indentation level (<string>, line 4)",
     "output_type": "error",
     "traceback": [
      "\u001b[1;36m  File \u001b[1;32m<string>:4\u001b[1;36m\u001b[0m\n\u001b[1;33m    for i in palabra:\u001b[0m\n\u001b[1;37m                     ^\u001b[0m\n\u001b[1;31mIndentationError\u001b[0m\u001b[1;31m:\u001b[0m unindent does not match any outer indentation level\n"
     ]
    }
   ],
   "source": [
    "def contar_letras(palabra):\n",
    "    contador = {}\n",
    "    palabra = palabra.lower()\n",
    " for i in palabra:\n",
    "    if i.isalpha():\n",
    "        if i in contador:\n",
    "            contador[i] += 1\n",
    "        else:\n",
    "            contador[i] = 1\n",
    "return contador\n",
    "\n",
    "    "
   ]
  },
  {
   "cell_type": "markdown",
   "metadata": {},
   "source": [
    "#### 7. Escribe un función recursiva para calcular el factorial de un número entero no negativo."
   ]
  },
  {
   "cell_type": "code",
   "execution_count": 26,
   "metadata": {},
   "outputs": [],
   "source": [
    "def factorial(n):\n",
    "    if n == 0:\n",
    "        return 1\n",
    "    return n*factorial(n -1)"
   ]
  },
  {
   "cell_type": "markdown",
   "metadata": {},
   "source": [
    "#### 8. Escribe una función que tome dos parámetros: `figura` (una cadena que puede ser `\"rectangulo\"`, `\"circulo\"` o `\"triangulo\"`) y `datos` (una tupla con los datos necesarios para calcular el área de la figura). "
   ]
  },
  {
   "cell_type": "code",
   "execution_count": 27,
   "metadata": {},
   "outputs": [],
   "source": [
    "def calcular_area(figura, datos):\n",
    "    pi = 3.14159\n",
    "    if figura == \"rectangulo\":\n",
    "        if len(datos) != 2:\n",
    "            return \"Error: Se requieren dos datos (base y altura).\"\n",
    "        base, altura = datos\n",
    "        return base * altura\n",
    "    elif figura == \"circulo\":\n",
    "        if len(datos) != 1:\n",
    "            return \"Error: Se requiere un dato (radio).\"\n",
    "        radio = datos[0]\n",
    "        return pi * radio ** 2  # Área de un círculo = π * radio^2\n",
    "\n",
    "    elif figura == \"triangulo\":\n",
    "        if len(datos) != 2:\n",
    "            return \"Error: Se requieren dos datos (base y altura).\"\n",
    "        base, altura = datos\n",
    "        return (base * altura) / 2  # Área de un triángulo = (base * altura) / 2\n",
    "\n",
    "    else:\n",
    "        return \"Error: Figura no reconocida. Debe ser 'rectangulo', 'circulo' o 'triangulo'.\"\n"
   ]
  },
  {
   "cell_type": "code",
   "execution_count": 31,
   "metadata": {},
   "outputs": [
    {
     "name": "stdout",
     "output_type": "stream",
     "text": [
      "El área del circulo es: 1256.636\n"
     ]
    }
   ],
   "source": [
    "figura = input(\"introduce la figura\")\n",
    "if figura == \"rectangulo\":\n",
    "    datos = (float(input(\"Introduce la base: \")), float(input(\"Introduce la altura: \")))\n",
    "elif figura == \"circulo\":\n",
    "    datos = (float(input(\"Introduce el radio: \")),)\n",
    "elif figura == \"triangulo\":\n",
    "    datos = (float(input(\"Introduce la base: \")), float(input(\"Introduce la altura: \")))\n",
    "else:\n",
    "    datos = ()\n",
    "area = calcular_area(figura, datos)\n",
    "print(f\"El área del {figura} es: {area}\")"
   ]
  },
  {
   "cell_type": "markdown",
   "metadata": {},
   "source": [
    "#### 9. Escribe una función que tome una lista de números como parámetro y devuelva el número más grande de la lista. No utilices la función `max()` de Python en tu solución."
   ]
  },
  {
   "cell_type": "code",
   "execution_count": 37,
   "metadata": {},
   "outputs": [
    {
     "ename": "IndentationError",
     "evalue": "expected an indented block after function definition on line 1 (3537167500.py, line 3)",
     "output_type": "error",
     "traceback": [
      "\u001b[1;36m  Cell \u001b[1;32mIn[37], line 3\u001b[1;36m\u001b[0m\n\u001b[1;33m    maximo = numero[0]\u001b[0m\n\u001b[1;37m    ^\u001b[0m\n\u001b[1;31mIndentationError\u001b[0m\u001b[1;31m:\u001b[0m expected an indented block after function definition on line 1\n"
     ]
    }
   ],
   "source": [
    "def encontrar_maximo(numeros):\n",
    "\n",
    "maximo = numero[0]\n",
    "\n",
    "for numero in numeros:\n",
    "    if numero > maximo:\n",
    "    maximo = numero\n",
    "return maximo"
   ]
  },
  {
   "cell_type": "markdown",
   "metadata": {},
   "source": [
    "#### 10. Escribe una función que tome una cadena como parámetro un texto y devuelva `True` si la cadena es un palíndromo (se lee igual de izquierda a derecha que de derecha a izquierda), y `False` en caso contrario. Ignora los espacios y considera mayúsculas y minúsculas de manera insensible.\n"
   ]
  },
  {
   "cell_type": "code",
   "execution_count": 38,
   "metadata": {},
   "outputs": [],
   "source": [
    "def es_palindromo(texto):\n",
    "    texto_limpio = ''.join(texto.split()).lower()\n",
    "    return texto_limpio == texto_limpio[::-1]\n"
   ]
  },
  {
   "cell_type": "markdown",
   "metadata": {},
   "source": [
    "#### 11. Escribe una función que tome una cadena como parámetro y devuelva dos valores: la cantidad de vocales y la cantidad de consonantes presentes en la cadena. Ignora los espacios y considera mayúsculas y minúsculas de manera insensible.\n"
   ]
  },
  {
   "cell_type": "code",
   "execution_count": 47,
   "metadata": {},
   "outputs": [
    {
     "name": "stdout",
     "output_type": "stream",
     "text": [
      "Vocales: 3, Consonantes: 11\n"
     ]
    }
   ],
   "source": [
    "def contar_vocales_consonantes(cadena):\n",
    "    \n",
    "    vocales = \"aeiou\"\n",
    "    \n",
    "    \n",
    "    num_vocales = 0\n",
    "    num_consonantes = 0\n",
    "    \n",
    "    \n",
    "    cadena = cadena.lower()\n",
    "    \n",
    "    \n",
    "    for caracter in cadena:\n",
    "        if caracter.isalpha():  \n",
    "            if caracter in vocales:\n",
    "                num_vocales += 1  \n",
    "            else:\n",
    "                num_consonantes += 1  \n",
    "    \n",
    "    return num_vocales, num_consonantes  \n",
    "\n",
    "# Ejemplo de uso\n",
    "cadena = input(\"Introduce una cadena: \")\n",
    "vocales, consonantes = contar_vocales_consonantes(cadena)\n",
    "print(f\"Vocales: {vocales}, Consonantes: {consonantes}\")\n"
   ]
  }
 ],
 "metadata": {
  "kernelspec": {
   "display_name": "hackio",
   "language": "python",
   "name": "python3"
  },
  "language_info": {
   "codemirror_mode": {
    "name": "ipython",
    "version": 3
   },
   "file_extension": ".py",
   "mimetype": "text/x-python",
   "name": "python",
   "nbconvert_exporter": "python",
   "pygments_lexer": "ipython3",
   "version": "3.12.4"
  }
 },
 "nbformat": 4,
 "nbformat_minor": 2
}
